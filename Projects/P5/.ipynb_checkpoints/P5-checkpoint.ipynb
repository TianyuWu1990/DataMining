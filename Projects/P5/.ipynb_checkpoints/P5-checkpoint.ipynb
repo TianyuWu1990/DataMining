{
 "cells": [
  {
   "cell_type": "code",
   "execution_count": null,
   "metadata": {},
   "outputs": [],
   "source": [
    "# -*- coding: utf-8 -*-\n",
    "import re\n",
    "import string\n",
    "from collections import Counter\n",
    "import pandas as pd\n",
    "import nltk\n",
    "import pandas as pd\n",
    "import csv\n",
    "from nltk.corpus import stopwords\n",
    "\n",
    "\n",
    "def preProcessing(text):\n",
    "    cachedStopWords = stopwords.words(\"english\")\n",
    "    stemmer = nltk.stem.SnowballStemmer('english')\n",
    "    text = text.strip().lower()\n",
    "    words = []\n",
    "    for word in re.split(\"\\s+\",text):\n",
    "        exclude = set(string.punctuation)\n",
    "        word = ''.join(ch for ch in word if ch not in exclude)\n",
    "        if word not in cachedStopWords:\n",
    "            word = stemmer.stem(word)\n",
    "            words.append(word)\n",
    "    return ' '.join(words)\n",
    "\n",
    "with open('winemag-data_first150k.csv', 'rb') as inp:\n",
    "    data = csv.reader(inp)\n",
    "    for row in data:\n",
    "        list = []\n",
    "        for col in row:\n",
    "            list.append(preProcessing(\"col\"))\n",
    "        print list    \n",
    "         "
   ]
  },
  {
   "cell_type": "code",
   "execution_count": null,
   "metadata": {
    "collapsed": true
   },
   "outputs": [],
   "source": []
  }
 ],
 "metadata": {
  "kernelspec": {
   "display_name": "Python 2",
   "language": "python",
   "name": "python2"
  },
  "language_info": {
   "codemirror_mode": {
    "name": "ipython",
    "version": 2
   },
   "file_extension": ".py",
   "mimetype": "text/x-python",
   "name": "python",
   "nbconvert_exporter": "python",
   "pygments_lexer": "ipython2",
   "version": "2.7.13"
  }
 },
 "nbformat": 4,
 "nbformat_minor": 2
}
