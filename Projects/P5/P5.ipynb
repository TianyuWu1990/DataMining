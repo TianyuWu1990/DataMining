{
 "cells": [
  {
   "cell_type": "code",
   "execution_count": 40,
   "metadata": {},
   "outputs": [
    {
     "ename": "ImportError",
     "evalue": "No module named goslate",
     "traceback": [
      "\u001b[0;31m---------------------------------------------------------------------------\u001b[0m",
      "\u001b[0;31mImportError\u001b[0m                               Traceback (most recent call last)",
      "\u001b[0;32m<ipython-input-40-516f21bd95c5>\u001b[0m in \u001b[0;36m<module>\u001b[0;34m()\u001b[0m\n\u001b[1;32m      7\u001b[0m \u001b[0;34m\u001b[0m\u001b[0m\n\u001b[1;32m      8\u001b[0m \u001b[0;32mimport\u001b[0m \u001b[0mcsv\u001b[0m\u001b[0;34m\u001b[0m\u001b[0m\n\u001b[0;32m----> 9\u001b[0;31m \u001b[0;32mimport\u001b[0m \u001b[0mgoslate\u001b[0m\u001b[0;34m\u001b[0m\u001b[0m\n\u001b[0m\u001b[1;32m     10\u001b[0m \u001b[0;32mfrom\u001b[0m \u001b[0mnltk\u001b[0m\u001b[0;34m.\u001b[0m\u001b[0mcorpus\u001b[0m \u001b[0;32mimport\u001b[0m \u001b[0mstopwords\u001b[0m\u001b[0;34m\u001b[0m\u001b[0m\n\u001b[1;32m     11\u001b[0m \u001b[0;34m\u001b[0m\u001b[0m\n",
      "\u001b[0;31mImportError\u001b[0m: No module named goslate"
     ],
     "output_type": "error"
    }
   ],
   "source": [
    "import re\n",
    "import string\n",
    "from collections import Counter\n",
    "import pandas as pd\n",
    "import nltk\n",
    "import pandas as pd\n",
    "\n",
    "import csv\n",
    "import goslate\n",
    "from nltk.corpus import stopwords\n",
    "\n",
    "\n",
    "# def preProcessing(text):\n",
    "#     cachedStopWords = stopwords.words(\"english\")\n",
    "#     stemmer = nltk.stem.SnowballStemmer('english')\n",
    "#     text = text.strip().lower()\n",
    "#     words = []\n",
    "#     for word in re.split(\"\\s+\",text):\n",
    "#         exclude = set(string.punctuation)\n",
    "#         word = ''.join(ch for ch in word if ch not in exclude)\n",
    "#         if word not in cachedStopWords:\n",
    "#             word = stemmer.stem(word)\n",
    "#             words.append(word)\n",
    "#     return ' '.join(words)\n",
    "\n",
    "\n",
    "# # with open('Reviews.csv', 'rb') as inp, open('Reviews_preprocessed.csv', 'wb') as out:\n",
    "# #     writer = csv.writer(out)\n",
    "# #     count = 0\n",
    "# #     for row in csv.reader(inp):\n",
    "# #         if count == 0:\n",
    "# #             count += 1\n",
    "# #             writer.writerow(row)\n",
    "# #         else:\n",
    "# #             words = row[9].split()\n",
    "# #             wordcount = len(words)\n",
    "# #             if wordcount >= 100 and wordcount < 110:\n",
    "# #                 count += 1\n",
    "# #                 print wordcount\n",
    "# #                 writer.writerow(row)\n",
    "\n",
    "# with open('winemag-data_first150k.csv', 'rb') as inp, open('winemag-data_first150k_stem.csv', 'wb') as out:\n",
    "#     writer = csv.writer(out)\n",
    "#     for row in csv.reader(inp):\n",
    "#         for i in range(11):\n",
    "#             row[i] = preProcessing(row[i])\n",
    "#         writer.writerow(row) "
   ]
  },
  {
   "cell_type": "code",
   "execution_count": null,
   "metadata": {
    "collapsed": true
   },
   "outputs": [],
   "source": []
  }
 ],
 "metadata": {
  "kernelspec": {
   "display_name": "Python 2",
   "language": "python",
   "name": "python2"
  },
  "language_info": {
   "codemirror_mode": {
    "name": "ipython",
    "version": 2
   },
   "file_extension": ".py",
   "mimetype": "text/x-python",
   "name": "python",
   "nbconvert_exporter": "python",
   "pygments_lexer": "ipython2",
   "version": "2.7.13"
  }
 },
 "nbformat": 4,
 "nbformat_minor": 2
}
